{
 "cells": [
  {
   "cell_type": "markdown",
   "metadata": {},
   "source": [
    "Considere el Hamitoniano de un pendulo simple\n",
    "$$H(p, q) = \\frac{p^2}{2} -w_0^2 cos (q)$$     $$p ∈ G ⊂ R, q ∈ S^1$$\n",
    "con $w_0$ la frecuencia (constante) de pequeñas oscilaciones. Hallar los\n",
    "puntos fijos y estudiar su estabilidad lineal. Graficar esquematicamente\n",
    "el espacio de fases del sistema."
   ]
  },
  {
   "cell_type": "markdown",
   "metadata": {},
   "source": [
    "Por la definicion del Hamiltoniano tenemos que $H(p,\\phi)$ satisface:\n",
    "$$\\dot{p}=-\\frac{\\partial H}{\\partial \\phi}=0$$ y $$\\dot{\\phi}=\\frac{\\partial H}{\\partial p}=0$$\n",
    "Esto significa que en cualquier punto el sistema esta en reposo.\n",
    "\n",
    "Consideremos el Hamiltoniano unidimensional dado por el enunciado\n",
    "$$H(p, q) = \\frac{p^2}{2} -w_0^2 cos (q)$$     \n",
    "Asi, escribimos:\n",
    "$$\\dot{p}=-\\frac{\\partial H}{\\partial x}=v(x,p)$$ y $$\\dot{x}=\\frac{\\partial H}{\\partial p}=u(x,p)$$\n",
    "Si $(x_0,p_0)$ es un punto fijo entonces $v(x_0,p_0)=0$ y $u(x_0,p_0)=0$"
   ]
  },
  {
   "cell_type": "code",
   "execution_count": null,
   "metadata": {},
   "outputs": [],
   "source": []
  }
 ],
 "metadata": {
  "kernelspec": {
   "display_name": "Python 3",
   "language": "python",
   "name": "python3"
  },
  "language_info": {
   "codemirror_mode": {
    "name": "ipython",
    "version": 3
   },
   "file_extension": ".py",
   "mimetype": "text/x-python",
   "name": "python",
   "nbconvert_exporter": "python",
   "pygments_lexer": "ipython3",
   "version": "3.6.5"
  }
 },
 "nbformat": 4,
 "nbformat_minor": 2
}
